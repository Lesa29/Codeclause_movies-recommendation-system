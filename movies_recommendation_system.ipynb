{
  "metadata": {
    "kernelspec": {
      "language": "python",
      "display_name": "Python 3",
      "name": "python3"
    },
    "language_info": {
      "name": "python",
      "version": "3.7.12",
      "mimetype": "text/x-python",
      "codemirror_mode": {
        "name": "ipython",
        "version": 3
      },
      "pygments_lexer": "ipython3",
      "nbconvert_exporter": "python",
      "file_extension": ".py"
    },
    "colab": {
      "provenance": []
    }
  },
  "nbformat_minor": 0,
  "nbformat": 4,
  "cells": [
    {
      "cell_type": "markdown",
      "source": [
        "**#AUTHOR:LESA ASHRAF**\n",
        "\n"
      ],
      "metadata": {
        "id": "fax1pqh8u20C"
      }
    },
    {
      "cell_type": "markdown",
      "source": [
        "**Task 2: MOVIE RECOMMENDATION SYSTEM**"
      ],
      "metadata": {
        "id": "L-KBs6rkH8Dc"
      }
    },
    {
      "cell_type": "code",
      "source": [
        "import numpy as np # linear algebra\n",
        "import pandas as pd\n",
        "import os\n",
        "from sklearn.feature_extraction.text import TfidfVectorizer\n",
        "from sklearn.metrics.pairwise import cosine_similarity\n",
        "from difflib import get_close_matches"
      ],
      "metadata": {
        "_uuid": "8f2839f25d086af736a60e9eeb907d3b93b6e0e5",
        "_cell_guid": "b1076dfc-b9ad-4769-8c92-a6c4dae69d19",
        "execution": {
          "iopub.status.busy": "2022-06-28T20:09:09.458812Z",
          "iopub.execute_input": "2022-06-28T20:09:09.459329Z",
          "iopub.status.idle": "2022-06-28T20:09:09.615413Z",
          "shell.execute_reply.started": "2022-06-28T20:09:09.459287Z",
          "shell.execute_reply": "2022-06-28T20:09:09.614652Z"
        },
        "trusted": true,
        "id": "NU0Q7igrux1W"
      },
      "execution_count": 1,
      "outputs": []
    },
    {
      "cell_type": "code",
      "source": [
        "df = pd.read_csv('./Top_10000_Movies.csv', lineterminator='\\n')\n",
        "df"
      ],
      "metadata": {
        "colab": {
          "base_uri": "https://localhost:8080/",
          "height": 815
        },
        "id": "hcNy-tO6vTYD",
        "outputId": "41ab43cb-582e-413b-aae4-7d80e76f5fce"
      },
      "execution_count": 2,
      "outputs": [
        {
          "output_type": "execute_result",
          "data": {
            "text/plain": [
              "      Unnamed: 0      id original_language               original_title  \\\n",
              "0              0  580489                en  Venom: Let There Be Carnage   \n",
              "1              1  524434                en                     Eternals   \n",
              "2              2  438631                en                         Dune   \n",
              "3              3  796499                en              Army of Thieves   \n",
              "4              4  550988                en                     Free Guy   \n",
              "...          ...     ...               ...                          ...   \n",
              "9995        9995     530                en              A Grand Day Out   \n",
              "9996        9996   15934                en                  El cantante   \n",
              "9997        9997  162215                en               How I Live Now   \n",
              "9998        9998    5723                en                         Once   \n",
              "9999        9999  311667                en              Manhattan Night   \n",
              "\n",
              "      popularity release_date  vote_average  vote_count  \\\n",
              "0       5401.308   2021-09-30           6.8        1736   \n",
              "1       3365.535   2021-11-03           7.1         622   \n",
              "2       2911.423   2021-09-15           8.0        3632   \n",
              "3       2552.437   2021-10-27           6.9         555   \n",
              "4       1850.470   2021-08-11           7.8        3493   \n",
              "...          ...          ...           ...         ...   \n",
              "9995       9.266   1990-05-18           7.5         594   \n",
              "9996      10.417   2006-09-12           7.0          80   \n",
              "9997       9.520   2013-09-10           6.6         705   \n",
              "9998       9.267   2007-03-23           7.4         990   \n",
              "9999       9.273   2016-05-20           6.0         304   \n",
              "\n",
              "                                                  genre  \\\n",
              "0            ['Science Fiction', 'Action', 'Adventure']   \n",
              "1     ['Action', 'Adventure', 'Science Fiction', 'Fa...   \n",
              "2            ['Action', 'Adventure', 'Science Fiction']   \n",
              "3                       ['Action', 'Crime', 'Thriller']   \n",
              "4     ['Comedy', 'Action', 'Adventure', 'Science Fic...   \n",
              "...                                                 ...   \n",
              "9995  ['Adventure', 'Animation', 'Comedy', 'Science ...   \n",
              "9996                      ['History', 'Drama', 'Music']   \n",
              "9997             ['Drama', 'Action', 'Thriller', 'War']   \n",
              "9998                      ['Drama', 'Music', 'Romance']   \n",
              "9999                   ['Drama', 'Mystery', 'Thriller']   \n",
              "\n",
              "                                               overview    revenue  runtime  \\\n",
              "0     After finding a host body in investigative rep...  424000000     97.0   \n",
              "1     The Eternals are a team of ancient aliens who ...  165000000    157.0   \n",
              "2     Paul Atreides, a brilliant and gifted young ma...  331116356    155.0   \n",
              "3     A mysterious woman recruits bank teller Ludwig...          0    127.0   \n",
              "4     A bank teller called Guy realizes he is a back...  331096766    115.0   \n",
              "...                                                 ...        ...      ...   \n",
              "9995  Wallace and Gromit have run out of cheese and ...          0     23.0   \n",
              "9996  The rise and fall of salsa singer, Héctor Lavo...          0    116.0   \n",
              "9997  An American girl on holiday in the English cou...          0    101.0   \n",
              "9998  A vacuum repairman moonlights as a street musi...   20710513     85.0   \n",
              "9999  Porter Wren is a Manhattan tabloid writer with...          0    113.0   \n",
              "\n",
              "                                                tagline  \n",
              "0                                                   NaN  \n",
              "1                                   In the beginning...  \n",
              "2                          Beyond fear, destiny awaits.  \n",
              "3          Before Vegas, one locksmith became a legend.  \n",
              "4        Life's too short to be a background character.  \n",
              "...                                                 ...  \n",
              "9995                                                NaN  \n",
              "9996  Based on the true story of the King of Salsa, ...  \n",
              "9997                            Love will lead you home  \n",
              "9998            How often do you find the right person?  \n",
              "9999                    No reporter can resist a siren.  \n",
              "\n",
              "[10000 rows x 13 columns]"
            ],
            "text/html": [
              "\n",
              "  <div id=\"df-9d94f503-2087-47c7-9504-5a610f8e791d\">\n",
              "    <div class=\"colab-df-container\">\n",
              "      <div>\n",
              "<style scoped>\n",
              "    .dataframe tbody tr th:only-of-type {\n",
              "        vertical-align: middle;\n",
              "    }\n",
              "\n",
              "    .dataframe tbody tr th {\n",
              "        vertical-align: top;\n",
              "    }\n",
              "\n",
              "    .dataframe thead th {\n",
              "        text-align: right;\n",
              "    }\n",
              "</style>\n",
              "<table border=\"1\" class=\"dataframe\">\n",
              "  <thead>\n",
              "    <tr style=\"text-align: right;\">\n",
              "      <th></th>\n",
              "      <th>Unnamed: 0</th>\n",
              "      <th>id</th>\n",
              "      <th>original_language</th>\n",
              "      <th>original_title</th>\n",
              "      <th>popularity</th>\n",
              "      <th>release_date</th>\n",
              "      <th>vote_average</th>\n",
              "      <th>vote_count</th>\n",
              "      <th>genre</th>\n",
              "      <th>overview</th>\n",
              "      <th>revenue</th>\n",
              "      <th>runtime</th>\n",
              "      <th>tagline</th>\n",
              "    </tr>\n",
              "  </thead>\n",
              "  <tbody>\n",
              "    <tr>\n",
              "      <th>0</th>\n",
              "      <td>0</td>\n",
              "      <td>580489</td>\n",
              "      <td>en</td>\n",
              "      <td>Venom: Let There Be Carnage</td>\n",
              "      <td>5401.308</td>\n",
              "      <td>2021-09-30</td>\n",
              "      <td>6.8</td>\n",
              "      <td>1736</td>\n",
              "      <td>['Science Fiction', 'Action', 'Adventure']</td>\n",
              "      <td>After finding a host body in investigative rep...</td>\n",
              "      <td>424000000</td>\n",
              "      <td>97.0</td>\n",
              "      <td>NaN</td>\n",
              "    </tr>\n",
              "    <tr>\n",
              "      <th>1</th>\n",
              "      <td>1</td>\n",
              "      <td>524434</td>\n",
              "      <td>en</td>\n",
              "      <td>Eternals</td>\n",
              "      <td>3365.535</td>\n",
              "      <td>2021-11-03</td>\n",
              "      <td>7.1</td>\n",
              "      <td>622</td>\n",
              "      <td>['Action', 'Adventure', 'Science Fiction', 'Fa...</td>\n",
              "      <td>The Eternals are a team of ancient aliens who ...</td>\n",
              "      <td>165000000</td>\n",
              "      <td>157.0</td>\n",
              "      <td>In the beginning...</td>\n",
              "    </tr>\n",
              "    <tr>\n",
              "      <th>2</th>\n",
              "      <td>2</td>\n",
              "      <td>438631</td>\n",
              "      <td>en</td>\n",
              "      <td>Dune</td>\n",
              "      <td>2911.423</td>\n",
              "      <td>2021-09-15</td>\n",
              "      <td>8.0</td>\n",
              "      <td>3632</td>\n",
              "      <td>['Action', 'Adventure', 'Science Fiction']</td>\n",
              "      <td>Paul Atreides, a brilliant and gifted young ma...</td>\n",
              "      <td>331116356</td>\n",
              "      <td>155.0</td>\n",
              "      <td>Beyond fear, destiny awaits.</td>\n",
              "    </tr>\n",
              "    <tr>\n",
              "      <th>3</th>\n",
              "      <td>3</td>\n",
              "      <td>796499</td>\n",
              "      <td>en</td>\n",
              "      <td>Army of Thieves</td>\n",
              "      <td>2552.437</td>\n",
              "      <td>2021-10-27</td>\n",
              "      <td>6.9</td>\n",
              "      <td>555</td>\n",
              "      <td>['Action', 'Crime', 'Thriller']</td>\n",
              "      <td>A mysterious woman recruits bank teller Ludwig...</td>\n",
              "      <td>0</td>\n",
              "      <td>127.0</td>\n",
              "      <td>Before Vegas, one locksmith became a legend.</td>\n",
              "    </tr>\n",
              "    <tr>\n",
              "      <th>4</th>\n",
              "      <td>4</td>\n",
              "      <td>550988</td>\n",
              "      <td>en</td>\n",
              "      <td>Free Guy</td>\n",
              "      <td>1850.470</td>\n",
              "      <td>2021-08-11</td>\n",
              "      <td>7.8</td>\n",
              "      <td>3493</td>\n",
              "      <td>['Comedy', 'Action', 'Adventure', 'Science Fic...</td>\n",
              "      <td>A bank teller called Guy realizes he is a back...</td>\n",
              "      <td>331096766</td>\n",
              "      <td>115.0</td>\n",
              "      <td>Life's too short to be a background character.</td>\n",
              "    </tr>\n",
              "    <tr>\n",
              "      <th>...</th>\n",
              "      <td>...</td>\n",
              "      <td>...</td>\n",
              "      <td>...</td>\n",
              "      <td>...</td>\n",
              "      <td>...</td>\n",
              "      <td>...</td>\n",
              "      <td>...</td>\n",
              "      <td>...</td>\n",
              "      <td>...</td>\n",
              "      <td>...</td>\n",
              "      <td>...</td>\n",
              "      <td>...</td>\n",
              "      <td>...</td>\n",
              "    </tr>\n",
              "    <tr>\n",
              "      <th>9995</th>\n",
              "      <td>9995</td>\n",
              "      <td>530</td>\n",
              "      <td>en</td>\n",
              "      <td>A Grand Day Out</td>\n",
              "      <td>9.266</td>\n",
              "      <td>1990-05-18</td>\n",
              "      <td>7.5</td>\n",
              "      <td>594</td>\n",
              "      <td>['Adventure', 'Animation', 'Comedy', 'Science ...</td>\n",
              "      <td>Wallace and Gromit have run out of cheese and ...</td>\n",
              "      <td>0</td>\n",
              "      <td>23.0</td>\n",
              "      <td>NaN</td>\n",
              "    </tr>\n",
              "    <tr>\n",
              "      <th>9996</th>\n",
              "      <td>9996</td>\n",
              "      <td>15934</td>\n",
              "      <td>en</td>\n",
              "      <td>El cantante</td>\n",
              "      <td>10.417</td>\n",
              "      <td>2006-09-12</td>\n",
              "      <td>7.0</td>\n",
              "      <td>80</td>\n",
              "      <td>['History', 'Drama', 'Music']</td>\n",
              "      <td>The rise and fall of salsa singer, Héctor Lavo...</td>\n",
              "      <td>0</td>\n",
              "      <td>116.0</td>\n",
              "      <td>Based on the true story of the King of Salsa, ...</td>\n",
              "    </tr>\n",
              "    <tr>\n",
              "      <th>9997</th>\n",
              "      <td>9997</td>\n",
              "      <td>162215</td>\n",
              "      <td>en</td>\n",
              "      <td>How I Live Now</td>\n",
              "      <td>9.520</td>\n",
              "      <td>2013-09-10</td>\n",
              "      <td>6.6</td>\n",
              "      <td>705</td>\n",
              "      <td>['Drama', 'Action', 'Thriller', 'War']</td>\n",
              "      <td>An American girl on holiday in the English cou...</td>\n",
              "      <td>0</td>\n",
              "      <td>101.0</td>\n",
              "      <td>Love will lead you home</td>\n",
              "    </tr>\n",
              "    <tr>\n",
              "      <th>9998</th>\n",
              "      <td>9998</td>\n",
              "      <td>5723</td>\n",
              "      <td>en</td>\n",
              "      <td>Once</td>\n",
              "      <td>9.267</td>\n",
              "      <td>2007-03-23</td>\n",
              "      <td>7.4</td>\n",
              "      <td>990</td>\n",
              "      <td>['Drama', 'Music', 'Romance']</td>\n",
              "      <td>A vacuum repairman moonlights as a street musi...</td>\n",
              "      <td>20710513</td>\n",
              "      <td>85.0</td>\n",
              "      <td>How often do you find the right person?</td>\n",
              "    </tr>\n",
              "    <tr>\n",
              "      <th>9999</th>\n",
              "      <td>9999</td>\n",
              "      <td>311667</td>\n",
              "      <td>en</td>\n",
              "      <td>Manhattan Night</td>\n",
              "      <td>9.273</td>\n",
              "      <td>2016-05-20</td>\n",
              "      <td>6.0</td>\n",
              "      <td>304</td>\n",
              "      <td>['Drama', 'Mystery', 'Thriller']</td>\n",
              "      <td>Porter Wren is a Manhattan tabloid writer with...</td>\n",
              "      <td>0</td>\n",
              "      <td>113.0</td>\n",
              "      <td>No reporter can resist a siren.</td>\n",
              "    </tr>\n",
              "  </tbody>\n",
              "</table>\n",
              "<p>10000 rows × 13 columns</p>\n",
              "</div>\n",
              "      <button class=\"colab-df-convert\" onclick=\"convertToInteractive('df-9d94f503-2087-47c7-9504-5a610f8e791d')\"\n",
              "              title=\"Convert this dataframe to an interactive table.\"\n",
              "              style=\"display:none;\">\n",
              "        \n",
              "  <svg xmlns=\"http://www.w3.org/2000/svg\" height=\"24px\"viewBox=\"0 0 24 24\"\n",
              "       width=\"24px\">\n",
              "    <path d=\"M0 0h24v24H0V0z\" fill=\"none\"/>\n",
              "    <path d=\"M18.56 5.44l.94 2.06.94-2.06 2.06-.94-2.06-.94-.94-2.06-.94 2.06-2.06.94zm-11 1L8.5 8.5l.94-2.06 2.06-.94-2.06-.94L8.5 2.5l-.94 2.06-2.06.94zm10 10l.94 2.06.94-2.06 2.06-.94-2.06-.94-.94-2.06-.94 2.06-2.06.94z\"/><path d=\"M17.41 7.96l-1.37-1.37c-.4-.4-.92-.59-1.43-.59-.52 0-1.04.2-1.43.59L10.3 9.45l-7.72 7.72c-.78.78-.78 2.05 0 2.83L4 21.41c.39.39.9.59 1.41.59.51 0 1.02-.2 1.41-.59l7.78-7.78 2.81-2.81c.8-.78.8-2.07 0-2.86zM5.41 20L4 18.59l7.72-7.72 1.47 1.35L5.41 20z\"/>\n",
              "  </svg>\n",
              "      </button>\n",
              "      \n",
              "  <style>\n",
              "    .colab-df-container {\n",
              "      display:flex;\n",
              "      flex-wrap:wrap;\n",
              "      gap: 12px;\n",
              "    }\n",
              "\n",
              "    .colab-df-convert {\n",
              "      background-color: #E8F0FE;\n",
              "      border: none;\n",
              "      border-radius: 50%;\n",
              "      cursor: pointer;\n",
              "      display: none;\n",
              "      fill: #1967D2;\n",
              "      height: 32px;\n",
              "      padding: 0 0 0 0;\n",
              "      width: 32px;\n",
              "    }\n",
              "\n",
              "    .colab-df-convert:hover {\n",
              "      background-color: #E2EBFA;\n",
              "      box-shadow: 0px 1px 2px rgba(60, 64, 67, 0.3), 0px 1px 3px 1px rgba(60, 64, 67, 0.15);\n",
              "      fill: #174EA6;\n",
              "    }\n",
              "\n",
              "    [theme=dark] .colab-df-convert {\n",
              "      background-color: #3B4455;\n",
              "      fill: #D2E3FC;\n",
              "    }\n",
              "\n",
              "    [theme=dark] .colab-df-convert:hover {\n",
              "      background-color: #434B5C;\n",
              "      box-shadow: 0px 1px 3px 1px rgba(0, 0, 0, 0.15);\n",
              "      filter: drop-shadow(0px 1px 2px rgba(0, 0, 0, 0.3));\n",
              "      fill: #FFFFFF;\n",
              "    }\n",
              "  </style>\n",
              "\n",
              "      <script>\n",
              "        const buttonEl =\n",
              "          document.querySelector('#df-9d94f503-2087-47c7-9504-5a610f8e791d button.colab-df-convert');\n",
              "        buttonEl.style.display =\n",
              "          google.colab.kernel.accessAllowed ? 'block' : 'none';\n",
              "\n",
              "        async function convertToInteractive(key) {\n",
              "          const element = document.querySelector('#df-9d94f503-2087-47c7-9504-5a610f8e791d');\n",
              "          const dataTable =\n",
              "            await google.colab.kernel.invokeFunction('convertToInteractive',\n",
              "                                                     [key], {});\n",
              "          if (!dataTable) return;\n",
              "\n",
              "          const docLinkHtml = 'Like what you see? Visit the ' +\n",
              "            '<a target=\"_blank\" href=https://colab.research.google.com/notebooks/data_table.ipynb>data table notebook</a>'\n",
              "            + ' to learn more about interactive tables.';\n",
              "          element.innerHTML = '';\n",
              "          dataTable['output_type'] = 'display_data';\n",
              "          await google.colab.output.renderOutput(dataTable, element);\n",
              "          const docLink = document.createElement('div');\n",
              "          docLink.innerHTML = docLinkHtml;\n",
              "          element.appendChild(docLink);\n",
              "        }\n",
              "      </script>\n",
              "    </div>\n",
              "  </div>\n",
              "  "
            ]
          },
          "metadata": {},
          "execution_count": 2
        }
      ]
    },
    {
      "cell_type": "code",
      "source": [
        "df[df['vote_average'] > 8.7]"
      ],
      "metadata": {
        "execution": {
          "iopub.status.busy": "2022-06-28T20:09:09.616958Z",
          "iopub.execute_input": "2022-06-28T20:09:09.617743Z",
          "iopub.status.idle": "2022-06-28T20:09:09.646284Z",
          "shell.execute_reply.started": "2022-06-28T20:09:09.617691Z",
          "shell.execute_reply": "2022-06-28T20:09:09.645467Z"
        },
        "trusted": true,
        "id": "8ZVlvccGux1Y",
        "outputId": "f625061d-6744-41d4-9136-2318a3c46501"
      },
      "execution_count": null,
      "outputs": [
        {
          "execution_count": 82,
          "output_type": "execute_result",
          "data": {
            "text/plain": "      Unnamed: 0      id original_language  \\\n577          577  820232                ja   \n2132        2132  635702                sr   \n2631        2631  533514                ja   \n3285        3285  524653                en   \n4137        4137  441663                en   \n4626        4626  802119                en   \n4712        4712  278698                en   \n4835        4835  529414                es   \n5010        5010  329824                zh   \n5238        5238  553512                ko   \n5607        5607  210769                en   \n5835        5835  759923                th   \n6261        6261  585257                ru   \n6347        6347  739936                fr   \n7043        7043  436951                es   \n8020        8020  348697                es   \n8049        8049  753230                es   \n9587        9587  884270                en   \n9772        9772  657847                en   \n\n                                     original_title  popularity release_date  \\\n577                                       鬼滅の刃 兄妹の絆      92.484   2019-03-29   \n2132                         Јужни Ветар 2: Убрзање      34.795   2021-01-01   \n2631                           劇場版 ヴァイオレット・エヴァーガーデン      26.247   2020-09-18   \n3285                    Sex School: Dorms of Desire      23.880   2018-05-16   \n4137                                        40 y 20      16.827          NaN   \n4626                                  All About Sex      18.300   2021-09-16   \n4712                                 Avatar Spirits      14.941   2010-06-22   \n4835              Franco Escamilla: Por La Anécdota      18.987   2018-06-08   \n5010                                  Ebola Zombies      14.316   2015-03-23   \n5238                                 번 더 스테이지: 더 무비      17.167   2018-11-15   \n5607        Scooby-Doo! Adventures: The Mystery Map      17.053   2013-07-22   \n5835                      พร้อมรัก ยัยตุ๊กตาซ้อมรัก      13.064   2020-10-30   \n6261                                          Огонь      11.187   2020-12-24   \n6347                                  French Lolita      13.514   1998-02-24   \n7043             Bob Esponja: Días de Cangreburgers      13.872   2016-06-08   \n8020  Colegialas lesbianas y el placer de pervertir      11.396   1983-02-21   \n8049          Las tres muertes de Marisela Escobedo      11.569   2020-10-14   \n9587     The House of Gaunt: Lord Voldemort Origins       8.705   2021-09-15   \n9772                     Mr. Robot: Behind the Mask      10.006   2017-01-01   \n\n      vote_average  vote_count                                         genre  \\\n577            9.4          17            ['Action', 'Animation', 'Fantasy']   \n2132           9.3           4                ['Crime', 'Drama', 'Thriller']   \n2631           8.8         142  ['Animation', 'Drama', 'Fantasy', 'Romance']   \n3285           9.0           1                                    ['Comedy']   \n4137           9.0           4                                            []   \n4626           9.0           1                ['Comedy', 'Drama', 'Romance']   \n4712           8.8          10                               ['Documentary']   \n4835           9.2          88                                    ['Comedy']   \n5010           9.5           2                 ['Horror', 'Science Fiction']   \n5238           9.2         309                      ['Documentary', 'Music']   \n5607           8.8          52  ['Family', 'Comedy', 'Mystery', 'Animation']   \n5835           9.0           4                         ['Comedy', 'Romance']   \n6261           8.8          80                           ['Action', 'Drama']   \n6347           9.3           2                                            []   \n7043           9.5           4                                            []   \n8020           9.1           4                                    ['Comedy']   \n8049           9.0         175                      ['Documentary', 'Crime']   \n9587           9.0           2                                   ['Fantasy']   \n9772           9.1           7                               ['Documentary']   \n\n                                               overview   revenue  runtime  \\\n577   Tanjiro finds his family slaughtered and the l...         0    105.0   \n2132                    Sequel to the movie South Wind.         0      0.0   \n2631  As the world moves on from the war and technol...  20339624    140.0   \n3285  Boning up for the finals, the girls of CSU won...         0     67.0   \n4137  A comedy series about a divorced dad who likes...         0      0.0   \n4626  Three friends in their mid-20s struggle to nav...         0     75.0   \n4712  Bryan Konietzko and Michael Dante DiMartino, c...         0     32.0   \n4835  Mexican stand-up comedian Franco Escamilla dra...         0     66.0   \n5010  A group of thieves break into an industrial co...         0     90.0   \n5238  Burn the Stage: The Movie is the first movie f...        20     85.0   \n5607  Get ready to experience the world-famous Scoob...         0     42.0   \n5835  The story of chaos both body and mind occurs w...         0     98.0   \n6261  A heroic story about firefighters and rescuers...         0    120.0   \n6347                                                NaN         0      0.0   \n7043                                                NaN         0      0.0   \n8020  Aunt Mary is not happy with her recent marriag...    222087     76.0   \n8049  Follows a mother's tireless crusade to jail he...         0    109.0   \n9587                                                NaN         0      0.0   \n9772                              Mr. Robot documentary         0      0.0   \n\n                                                tagline  \n577                                                 NaN  \n2132                                                NaN  \n2631                                                NaN  \n3285                                                NaN  \n4137                                                NaN  \n4626  Love, sex, relationships and everything in bet...  \n4712  In 2002, two friends set out to create a groun...  \n4835                                                NaN  \n5010                                                NaN  \n5238  From the deserts to the seas, we were always t...  \n5607                                                NaN  \n5835                                                NaN  \n6261                         Some fires can't be tamed.  \n6347                                                NaN  \n7043                                                NaN  \n8020                                                NaN  \n8049                                                NaN  \n9587                                                NaN  \n9772                                                NaN  ",
            "text/html": "<div>\n<style scoped>\n    .dataframe tbody tr th:only-of-type {\n        vertical-align: middle;\n    }\n\n    .dataframe tbody tr th {\n        vertical-align: top;\n    }\n\n    .dataframe thead th {\n        text-align: right;\n    }\n</style>\n<table border=\"1\" class=\"dataframe\">\n  <thead>\n    <tr style=\"text-align: right;\">\n      <th></th>\n      <th>Unnamed: 0</th>\n      <th>id</th>\n      <th>original_language</th>\n      <th>original_title</th>\n      <th>popularity</th>\n      <th>release_date</th>\n      <th>vote_average</th>\n      <th>vote_count</th>\n      <th>genre</th>\n      <th>overview</th>\n      <th>revenue</th>\n      <th>runtime</th>\n      <th>tagline</th>\n    </tr>\n  </thead>\n  <tbody>\n    <tr>\n      <th>577</th>\n      <td>577</td>\n      <td>820232</td>\n      <td>ja</td>\n      <td>鬼滅の刃 兄妹の絆</td>\n      <td>92.484</td>\n      <td>2019-03-29</td>\n      <td>9.4</td>\n      <td>17</td>\n      <td>['Action', 'Animation', 'Fantasy']</td>\n      <td>Tanjiro finds his family slaughtered and the l...</td>\n      <td>0</td>\n      <td>105.0</td>\n      <td>NaN</td>\n    </tr>\n    <tr>\n      <th>2132</th>\n      <td>2132</td>\n      <td>635702</td>\n      <td>sr</td>\n      <td>Јужни Ветар 2: Убрзање</td>\n      <td>34.795</td>\n      <td>2021-01-01</td>\n      <td>9.3</td>\n      <td>4</td>\n      <td>['Crime', 'Drama', 'Thriller']</td>\n      <td>Sequel to the movie South Wind.</td>\n      <td>0</td>\n      <td>0.0</td>\n      <td>NaN</td>\n    </tr>\n    <tr>\n      <th>2631</th>\n      <td>2631</td>\n      <td>533514</td>\n      <td>ja</td>\n      <td>劇場版 ヴァイオレット・エヴァーガーデン</td>\n      <td>26.247</td>\n      <td>2020-09-18</td>\n      <td>8.8</td>\n      <td>142</td>\n      <td>['Animation', 'Drama', 'Fantasy', 'Romance']</td>\n      <td>As the world moves on from the war and technol...</td>\n      <td>20339624</td>\n      <td>140.0</td>\n      <td>NaN</td>\n    </tr>\n    <tr>\n      <th>3285</th>\n      <td>3285</td>\n      <td>524653</td>\n      <td>en</td>\n      <td>Sex School: Dorms of Desire</td>\n      <td>23.880</td>\n      <td>2018-05-16</td>\n      <td>9.0</td>\n      <td>1</td>\n      <td>['Comedy']</td>\n      <td>Boning up for the finals, the girls of CSU won...</td>\n      <td>0</td>\n      <td>67.0</td>\n      <td>NaN</td>\n    </tr>\n    <tr>\n      <th>4137</th>\n      <td>4137</td>\n      <td>441663</td>\n      <td>en</td>\n      <td>40 y 20</td>\n      <td>16.827</td>\n      <td>NaN</td>\n      <td>9.0</td>\n      <td>4</td>\n      <td>[]</td>\n      <td>A comedy series about a divorced dad who likes...</td>\n      <td>0</td>\n      <td>0.0</td>\n      <td>NaN</td>\n    </tr>\n    <tr>\n      <th>4626</th>\n      <td>4626</td>\n      <td>802119</td>\n      <td>en</td>\n      <td>All About Sex</td>\n      <td>18.300</td>\n      <td>2021-09-16</td>\n      <td>9.0</td>\n      <td>1</td>\n      <td>['Comedy', 'Drama', 'Romance']</td>\n      <td>Three friends in their mid-20s struggle to nav...</td>\n      <td>0</td>\n      <td>75.0</td>\n      <td>Love, sex, relationships and everything in bet...</td>\n    </tr>\n    <tr>\n      <th>4712</th>\n      <td>4712</td>\n      <td>278698</td>\n      <td>en</td>\n      <td>Avatar Spirits</td>\n      <td>14.941</td>\n      <td>2010-06-22</td>\n      <td>8.8</td>\n      <td>10</td>\n      <td>['Documentary']</td>\n      <td>Bryan Konietzko and Michael Dante DiMartino, c...</td>\n      <td>0</td>\n      <td>32.0</td>\n      <td>In 2002, two friends set out to create a groun...</td>\n    </tr>\n    <tr>\n      <th>4835</th>\n      <td>4835</td>\n      <td>529414</td>\n      <td>es</td>\n      <td>Franco Escamilla: Por La Anécdota</td>\n      <td>18.987</td>\n      <td>2018-06-08</td>\n      <td>9.2</td>\n      <td>88</td>\n      <td>['Comedy']</td>\n      <td>Mexican stand-up comedian Franco Escamilla dra...</td>\n      <td>0</td>\n      <td>66.0</td>\n      <td>NaN</td>\n    </tr>\n    <tr>\n      <th>5010</th>\n      <td>5010</td>\n      <td>329824</td>\n      <td>zh</td>\n      <td>Ebola Zombies</td>\n      <td>14.316</td>\n      <td>2015-03-23</td>\n      <td>9.5</td>\n      <td>2</td>\n      <td>['Horror', 'Science Fiction']</td>\n      <td>A group of thieves break into an industrial co...</td>\n      <td>0</td>\n      <td>90.0</td>\n      <td>NaN</td>\n    </tr>\n    <tr>\n      <th>5238</th>\n      <td>5238</td>\n      <td>553512</td>\n      <td>ko</td>\n      <td>번 더 스테이지: 더 무비</td>\n      <td>17.167</td>\n      <td>2018-11-15</td>\n      <td>9.2</td>\n      <td>309</td>\n      <td>['Documentary', 'Music']</td>\n      <td>Burn the Stage: The Movie is the first movie f...</td>\n      <td>20</td>\n      <td>85.0</td>\n      <td>From the deserts to the seas, we were always t...</td>\n    </tr>\n    <tr>\n      <th>5607</th>\n      <td>5607</td>\n      <td>210769</td>\n      <td>en</td>\n      <td>Scooby-Doo! Adventures: The Mystery Map</td>\n      <td>17.053</td>\n      <td>2013-07-22</td>\n      <td>8.8</td>\n      <td>52</td>\n      <td>['Family', 'Comedy', 'Mystery', 'Animation']</td>\n      <td>Get ready to experience the world-famous Scoob...</td>\n      <td>0</td>\n      <td>42.0</td>\n      <td>NaN</td>\n    </tr>\n    <tr>\n      <th>5835</th>\n      <td>5835</td>\n      <td>759923</td>\n      <td>th</td>\n      <td>พร้อมรัก ยัยตุ๊กตาซ้อมรัก</td>\n      <td>13.064</td>\n      <td>2020-10-30</td>\n      <td>9.0</td>\n      <td>4</td>\n      <td>['Comedy', 'Romance']</td>\n      <td>The story of chaos both body and mind occurs w...</td>\n      <td>0</td>\n      <td>98.0</td>\n      <td>NaN</td>\n    </tr>\n    <tr>\n      <th>6261</th>\n      <td>6261</td>\n      <td>585257</td>\n      <td>ru</td>\n      <td>Огонь</td>\n      <td>11.187</td>\n      <td>2020-12-24</td>\n      <td>8.8</td>\n      <td>80</td>\n      <td>['Action', 'Drama']</td>\n      <td>A heroic story about firefighters and rescuers...</td>\n      <td>0</td>\n      <td>120.0</td>\n      <td>Some fires can't be tamed.</td>\n    </tr>\n    <tr>\n      <th>6347</th>\n      <td>6347</td>\n      <td>739936</td>\n      <td>fr</td>\n      <td>French Lolita</td>\n      <td>13.514</td>\n      <td>1998-02-24</td>\n      <td>9.3</td>\n      <td>2</td>\n      <td>[]</td>\n      <td>NaN</td>\n      <td>0</td>\n      <td>0.0</td>\n      <td>NaN</td>\n    </tr>\n    <tr>\n      <th>7043</th>\n      <td>7043</td>\n      <td>436951</td>\n      <td>es</td>\n      <td>Bob Esponja: Días de Cangreburgers</td>\n      <td>13.872</td>\n      <td>2016-06-08</td>\n      <td>9.5</td>\n      <td>4</td>\n      <td>[]</td>\n      <td>NaN</td>\n      <td>0</td>\n      <td>0.0</td>\n      <td>NaN</td>\n    </tr>\n    <tr>\n      <th>8020</th>\n      <td>8020</td>\n      <td>348697</td>\n      <td>es</td>\n      <td>Colegialas lesbianas y el placer de pervertir</td>\n      <td>11.396</td>\n      <td>1983-02-21</td>\n      <td>9.1</td>\n      <td>4</td>\n      <td>['Comedy']</td>\n      <td>Aunt Mary is not happy with her recent marriag...</td>\n      <td>222087</td>\n      <td>76.0</td>\n      <td>NaN</td>\n    </tr>\n    <tr>\n      <th>8049</th>\n      <td>8049</td>\n      <td>753230</td>\n      <td>es</td>\n      <td>Las tres muertes de Marisela Escobedo</td>\n      <td>11.569</td>\n      <td>2020-10-14</td>\n      <td>9.0</td>\n      <td>175</td>\n      <td>['Documentary', 'Crime']</td>\n      <td>Follows a mother's tireless crusade to jail he...</td>\n      <td>0</td>\n      <td>109.0</td>\n      <td>NaN</td>\n    </tr>\n    <tr>\n      <th>9587</th>\n      <td>9587</td>\n      <td>884270</td>\n      <td>en</td>\n      <td>The House of Gaunt: Lord Voldemort Origins</td>\n      <td>8.705</td>\n      <td>2021-09-15</td>\n      <td>9.0</td>\n      <td>2</td>\n      <td>['Fantasy']</td>\n      <td>NaN</td>\n      <td>0</td>\n      <td>0.0</td>\n      <td>NaN</td>\n    </tr>\n    <tr>\n      <th>9772</th>\n      <td>9772</td>\n      <td>657847</td>\n      <td>en</td>\n      <td>Mr. Robot: Behind the Mask</td>\n      <td>10.006</td>\n      <td>2017-01-01</td>\n      <td>9.1</td>\n      <td>7</td>\n      <td>['Documentary']</td>\n      <td>Mr. Robot documentary</td>\n      <td>0</td>\n      <td>0.0</td>\n      <td>NaN</td>\n    </tr>\n  </tbody>\n</table>\n</div>"
          },
          "metadata": {}
        }
      ]
    },
    {
      "cell_type": "code",
      "source": [
        "df = df[['original_title', 'genre', 'overview', 'tagline']]"
      ],
      "metadata": {
        "execution": {
          "iopub.status.busy": "2022-06-28T20:09:09.647841Z",
          "iopub.execute_input": "2022-06-28T20:09:09.648417Z",
          "iopub.status.idle": "2022-06-28T20:09:09.655222Z",
          "shell.execute_reply.started": "2022-06-28T20:09:09.648371Z",
          "shell.execute_reply": "2022-06-28T20:09:09.654162Z"
        },
        "trusted": true,
        "id": "vShrg_jqux1Y"
      },
      "execution_count": null,
      "outputs": []
    },
    {
      "cell_type": "code",
      "source": [
        "df.isna().sum()"
      ],
      "metadata": {
        "execution": {
          "iopub.status.busy": "2022-06-28T20:09:09.658232Z",
          "iopub.execute_input": "2022-06-28T20:09:09.659335Z",
          "iopub.status.idle": "2022-06-28T20:09:09.676219Z",
          "shell.execute_reply.started": "2022-06-28T20:09:09.659281Z",
          "shell.execute_reply": "2022-06-28T20:09:09.675022Z"
        },
        "trusted": true,
        "id": "UYUDUHNOux1Y",
        "outputId": "7ece928a-5edf-4b5a-8cb6-394503537555"
      },
      "execution_count": null,
      "outputs": [
        {
          "execution_count": 84,
          "output_type": "execute_result",
          "data": {
            "text/plain": "original_title       0\ngenre                0\noverview           100\ntagline           2920\ndtype: int64"
          },
          "metadata": {}
        }
      ]
    },
    {
      "cell_type": "markdown",
      "source": [
        "# Removing unnecessary parts in a sentence"
      ],
      "metadata": {
        "id": "lyhmsiNHux1Y"
      }
    },
    {
      "cell_type": "code",
      "source": [
        "def rep(what, s):\n",
        "    for item in what:\n",
        "        s = s.replace(item, '')\n",
        "    return s\n",
        "  \n",
        "df.fillna('', inplace=True)\n",
        "df['genre'] = df['genre'].apply(lambda x: rep([',', '[', ']', \"'\"], x))\n",
        "df['new'] = df['original_title'] + ' ' + df['genre'] + ' ' + df['overview'] + ' ' + df['tagline']\n",
        "df.isnull().sum()"
      ],
      "metadata": {
        "execution": {
          "iopub.status.busy": "2022-06-28T20:09:09.678048Z",
          "iopub.execute_input": "2022-06-28T20:09:09.679099Z",
          "iopub.status.idle": "2022-06-28T20:09:09.756420Z",
          "shell.execute_reply.started": "2022-06-28T20:09:09.679047Z",
          "shell.execute_reply": "2022-06-28T20:09:09.755235Z"
        },
        "trusted": true,
        "id": "SYznk7-5ux1Z",
        "outputId": "45ef314b-8c74-4636-8ab8-c1c9af3bea94"
      },
      "execution_count": null,
      "outputs": [
        {
          "name": "stderr",
          "text": "/opt/conda/lib/python3.7/site-packages/pandas/core/frame.py:5182: SettingWithCopyWarning: \nA value is trying to be set on a copy of a slice from a DataFrame\n\nSee the caveats in the documentation: https://pandas.pydata.org/pandas-docs/stable/user_guide/indexing.html#returning-a-view-versus-a-copy\n  downcast=downcast,\n/opt/conda/lib/python3.7/site-packages/ipykernel_launcher.py:7: SettingWithCopyWarning: \nA value is trying to be set on a copy of a slice from a DataFrame.\nTry using .loc[row_indexer,col_indexer] = value instead\n\nSee the caveats in the documentation: https://pandas.pydata.org/pandas-docs/stable/user_guide/indexing.html#returning-a-view-versus-a-copy\n  import sys\n/opt/conda/lib/python3.7/site-packages/ipykernel_launcher.py:8: SettingWithCopyWarning: \nA value is trying to be set on a copy of a slice from a DataFrame.\nTry using .loc[row_indexer,col_indexer] = value instead\n\nSee the caveats in the documentation: https://pandas.pydata.org/pandas-docs/stable/user_guide/indexing.html#returning-a-view-versus-a-copy\n  \n",
          "output_type": "stream"
        },
        {
          "execution_count": 85,
          "output_type": "execute_result",
          "data": {
            "text/plain": "original_title    0\ngenre             0\noverview          0\ntagline           0\nnew               0\ndtype: int64"
          },
          "metadata": {}
        }
      ]
    },
    {
      "cell_type": "markdown",
      "source": [
        "# Data vectorization"
      ],
      "metadata": {
        "id": "StGy_Ydeux1Z"
      }
    },
    {
      "cell_type": "markdown",
      "source": [
        "*Transform a count matrix to a normalized tf or tf-idf representation.*\n",
        "\n",
        "*Tf means term-frequency while tf-idf means term-frequency times inverse document-frequency. This is a common term weighting scheme in information retrieval, that has also found good use in document classification.*\n",
        "\n",
        "*The goal of using tf-idf instead of the raw frequencies of occurrence of a token in a given document is to scale down the impact of tokens that occur very frequently in a given corpus and that are hence empirically less informative than features that occur in a small fraction of the training corpus.*"
      ],
      "metadata": {
        "id": "I2WZLvl_ux1Z"
      }
    },
    {
      "cell_type": "code",
      "source": [
        "vectorizer = TfidfVectorizer()\n",
        "transformed_data = vectorizer.fit_transform(df['new'].values)\n",
        "print(transformed_data)"
      ],
      "metadata": {
        "execution": {
          "iopub.status.busy": "2022-06-28T20:09:09.758264Z",
          "iopub.execute_input": "2022-06-28T20:09:09.759104Z",
          "iopub.status.idle": "2022-06-28T20:09:10.644618Z",
          "shell.execute_reply.started": "2022-06-28T20:09:09.759053Z",
          "shell.execute_reply": "2022-06-28T20:09:10.643307Z"
        },
        "trusted": true,
        "id": "BdT0taA_ux1a",
        "outputId": "1ddb5850-c53b-482b-8093-e76cd0bcd13c"
      },
      "execution_count": null,
      "outputs": [
        {
          "name": "stdout",
          "text": "  (0, 15267)\t0.2732294380056773\n  (0, 5428)\t0.2732294380056773\n  (0, 15458)\t0.1332686951038846\n  (0, 24932)\t0.16269657484290734\n  (0, 19670)\t0.0377780306017594\n  (0, 8881)\t0.20071896632827568\n  (0, 1262)\t0.18514952254876416\n  (0, 9247)\t0.15146631667436114\n  (0, 19144)\t0.08643516585353463\n  (0, 9990)\t0.1317742228581233\n  (0, 18723)\t0.0944167727037104\n  (0, 27469)\t0.2615890480913031\n  (0, 1184)\t0.14947185280640007\n  (0, 28025)\t0.06399184004957875\n  (0, 3945)\t0.2300492801825729\n  (0, 8804)\t0.19548474526106815\n  (0, 23199)\t0.175585367266712\n  (0, 14491)\t0.22179029210259085\n  (0, 13911)\t0.044093790545450456\n  (0, 3493)\t0.15065182987852424\n  (0, 13325)\t0.18946393433341213\n  (0, 10447)\t0.16179465562354636\n  (0, 936)\t0.0810903824094842\n  (0, 862)\t0.07646474393850715\n  (0, 719)\t0.06681587529004712\n  :\t:\n  (9999, 13006)\t0.06303341704033295\n  (9999, 30878)\t0.04078582844165432\n  (9999, 24438)\t0.1417676864437632\n  (9999, 4233)\t0.053438717284544156\n  (9999, 19306)\t0.07545789742183849\n  (9999, 12857)\t0.05044868456506437\n  (9999, 16300)\t0.059076068731877256\n  (9999, 28018)\t0.09477722341021881\n  (9999, 14592)\t0.10922691391449589\n  (9999, 12681)\t0.14556742285478216\n  (9999, 19798)\t0.058426587770832636\n  (9999, 28152)\t0.048930817568905105\n  (9999, 4432)\t0.06992431631651089\n  (9999, 13042)\t0.11857809464414003\n  (9999, 14426)\t0.12065413188020273\n  (9999, 1438)\t0.10935266290941097\n  (9999, 28330)\t0.02608238858347849\n  (9999, 28592)\t0.12441954995072235\n  (9999, 1406)\t0.0444931990601899\n  (9999, 30636)\t0.04758469449149819\n  (9999, 10780)\t0.08792956125361136\n  (9999, 19791)\t0.04473611726026364\n  (9999, 19670)\t0.05452263143948538\n  (9999, 28025)\t0.06926651789244921\n  (9999, 23199)\t0.1267056026102611\n",
          "output_type": "stream"
        }
      ]
    },
    {
      "cell_type": "markdown",
      "source": [
        "# Finding similarity between movies"
      ],
      "metadata": {
        "id": "i3zlGgj_ux1a"
      }
    },
    {
      "cell_type": "markdown",
      "source": [
        "Given two vectors of attributes, A and B, the cosine similarity, cos(θ), is represented using a dot product and magnitude as"
      ],
      "metadata": {
        "id": "iZhNCzjmux1a"
      }
    },
    {
      "cell_type": "code",
      "source": [
        "sim = cosine_similarity(transformed_data)\n",
        "sim"
      ],
      "metadata": {
        "execution": {
          "iopub.status.busy": "2022-06-28T20:09:10.646165Z",
          "iopub.execute_input": "2022-06-28T20:09:10.646538Z",
          "iopub.status.idle": "2022-06-28T20:09:17.284569Z",
          "shell.execute_reply.started": "2022-06-28T20:09:10.646505Z",
          "shell.execute_reply": "2022-06-28T20:09:17.283526Z"
        },
        "trusted": true,
        "id": "cQLNA1xQux1b",
        "outputId": "e63175d6-7336-40da-8fd4-ade12326156c"
      },
      "execution_count": null,
      "outputs": [
        {
          "execution_count": 87,
          "output_type": "execute_result",
          "data": {
            "text/plain": "array([[1.        , 0.06480214, 0.03884375, ..., 0.01495285, 0.00971828,\n        0.0287399 ],\n       [0.06480214, 1.        , 0.08589136, ..., 0.05076597, 0.05054849,\n        0.05136352],\n       [0.03884375, 0.08589136, 1.        , ..., 0.04118718, 0.0377957 ,\n        0.05420547],\n       ...,\n       [0.01495285, 0.05076597, 0.04118718, ..., 1.        , 0.0728812 ,\n        0.05820077],\n       [0.00971828, 0.05054849, 0.0377957 , ..., 0.0728812 , 1.        ,\n        0.05810926],\n       [0.0287399 , 0.05136352, 0.05420547, ..., 0.05820077, 0.05810926,\n        1.        ]])"
          },
          "metadata": {}
        }
      ]
    },
    {
      "cell_type": "code",
      "source": [
        "movie_name = input()\n",
        "closest_name = get_close_matches(movie_name, df.original_title.values, 1)[0]\n",
        "print(closest_name)\n",
        "movie = df[df['original_title'] == closest_name]\n"
      ],
      "metadata": {
        "execution": {
          "iopub.status.busy": "2022-06-28T20:09:17.286019Z",
          "iopub.execute_input": "2022-06-28T20:09:17.287269Z",
          "iopub.status.idle": "2022-06-28T20:09:20.948165Z",
          "shell.execute_reply.started": "2022-06-28T20:09:17.287217Z",
          "shell.execute_reply": "2022-06-28T20:09:20.946979Z"
        },
        "trusted": true,
        "id": "1yZvyjVnux1b",
        "outputId": "c5d43884-8ad4-49dd-faf1-3cb4b588292f"
      },
      "execution_count": null,
      "outputs": [
        {
          "output_type": "stream",
          "name": "stdin",
          "text": " scooby doo\n"
        },
        {
          "name": "stdout",
          "text": "Scooby-Doo\n",
          "output_type": "stream"
        }
      ]
    },
    {
      "cell_type": "code",
      "source": [
        "movie_index = movie.index.values[0]\n",
        "ls = sorted(list(enumerate(sim[movie_index])), key=lambda x: x[1], reverse=True)\n",
        "for i in ls[1:9]:\n",
        "    print(df.loc[i[0]].original_title)"
      ],
      "metadata": {
        "execution": {
          "iopub.status.busy": "2022-06-28T20:09:20.949708Z",
          "iopub.execute_input": "2022-06-28T20:09:20.950667Z",
          "iopub.status.idle": "2022-06-28T20:09:20.975250Z",
          "shell.execute_reply.started": "2022-06-28T20:09:20.950615Z",
          "shell.execute_reply": "2022-06-28T20:09:20.974328Z"
        },
        "trusted": true,
        "id": "6vuV-i32ux1b",
        "outputId": "ac17167e-e592-4567-be5d-916e18efd432"
      },
      "execution_count": null,
      "outputs": [
        {
          "name": "stdout",
          "text": "Scooby-Doo! in Where's My Mummy?\nScooby-Doo! Return to Zombie Island\nScooby-Doo! & Batman: The Brave and the Bold\nScooby-Doo and the Alien Invaders\nScooby-Doo! and WWE: Curse of the Speed Demon\nScoob!\nScooby-Doo! Stage Fright\n2 Guns\n",
          "output_type": "stream"
        }
      ]
    }
  ]
}